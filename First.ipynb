{
 "cells": [
  {
   "cell_type": "code",
   "execution_count": 19,
   "metadata": {},
   "outputs": [],
   "source": [
    "import requests\n",
    "from requests.auth import HTTPBasicAuth\n",
    "\n",
    "USERNAME = \"232fd97ad7ef45d7a54e1f341f9e9ed8\"\n",
    "PASSWORD = \"51A7F33F80CD483d8f12BEC230637840\"\n",
    "\n",
    "crt_file = \"Diago.crt.txt\"\n",
    "pem_file = \"Diago-private.pem\"\n",
    "\n",
    "resp = requests.get(\"https://api.non-prod.volkswagengroup.fr/tools/qa/leads/v2/dealers/export\", params={\"page\": 2, \"per_page\": 10, \"brand\": \"Volkswagen\"}, auth=HTTPBasicAuth(USERNAME, PASSWORD), cert=(crt_file, pem_file))\n",
    "\n",
    "\n"
   ]
  },
  {
   "cell_type": "code",
   "execution_count": null,
   "metadata": {},
   "outputs": [],
   "source": [
    "page = 1\n",
    "per_page = 10\n",
    "\n",
    "while True:\n",
    "    try:\n",
    "        resp = requests.get(\n",
    "            \"https://api.non-prod.volkswagengroup.fr/tools/qa/leads/v2/dealers/export\", \n",
    "            params={\"page\": page, \"per_page\": per_page, \"brand\": \"Volkswagen\"},\n",
    "            auth=HTTPBasicAuth(USERNAME, PASSWORD),\n",
    "            cert=(crt_file, pem_file)\n",
    "        )\n",
    "        # Vérification du statut de la réponse\n",
    "        if resp.status_code != 200:\n",
    "            print(f\"Reached end of pages at page {page-1}.\")\n",
    "            break\n",
    "        \n",
    "        data = resp.json()  # Récupérer les données au format JSON\n",
    "        if not data:\n",
    "            print(f\"No data found on page {page}. Stopping.\")\n",
    "            break\n",
    "        \n",
    "        # Traite les données de cette page ici\n",
    "        print(f\"Processing page {page}: {data}\")\n",
    "\n",
    "        page += 1\n",
    "    \n",
    "    except requests.exceptions.RequestException as e:\n",
    "        print(f\"Error occurred: {e}\")\n",
    "        break"
   ]
  }
 ],
 "metadata": {
  "kernelspec": {
   "display_name": "VWkNN",
   "language": "python",
   "name": "vwknn"
  },
  "language_info": {
   "codemirror_mode": {
    "name": "ipython",
    "version": 3
   },
   "file_extension": ".py",
   "mimetype": "text/x-python",
   "name": "python",
   "nbconvert_exporter": "python",
   "pygments_lexer": "ipython3",
   "version": "3.12.6"
  }
 },
 "nbformat": 4,
 "nbformat_minor": 2
}
